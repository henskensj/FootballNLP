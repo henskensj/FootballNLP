{
 "cells": [
  {
   "cell_type": "code",
   "execution_count": 5,
   "metadata": {},
   "outputs": [
    {
     "name": "stdout",
     "output_type": "stream",
     "text": [
      "Collecting fastText\n",
      "  Using cached https://files.pythonhosted.org/packages/a4/86/ff826211bc9e28d4c371668b30b4b2c38a09127e5e73017b1c0cd52f9dfa/fasttext-0.8.3.tar.gz\n",
      "Requirement already satisfied: numpy>=1 in c:\\users\\henskensj\\appdata\\local\\continuum\\anaconda3\\lib\\site-packages (from fastText) (1.14.4)\n",
      "Requirement already satisfied: future in c:\\users\\henskensj\\appdata\\local\\continuum\\anaconda3\\lib\\site-packages (from fastText) (0.17.1)\n",
      "Building wheels for collected packages: fastText\n",
      "  Running setup.py bdist_wheel for fastText: started\n",
      "  Running setup.py bdist_wheel for fastText: finished with status 'error'\n",
      "  Complete output from command c:\\users\\henskensj\\appdata\\local\\continuum\\anaconda3\\python.exe -u -c \"import setuptools, tokenize;__file__='C:\\\\Users\\\\HENSKE~1\\\\AppData\\\\Local\\\\Temp\\\\pip-install-qs_mspk3\\\\fastText\\\\setup.py';f=getattr(tokenize, 'open', open)(__file__);code=f.read().replace('\\r\\n', '\\n');f.close();exec(compile(code, __file__, 'exec'))\" bdist_wheel -d C:\\Users\\HENSKE~1\\AppData\\Local\\Temp\\pip-wheel-9mhs0kig --python-tag cp36:\n",
      "  running bdist_wheel\n",
      "  running build\n",
      "  running build_py\n",
      "  creating build\n",
      "  creating build\\lib.win-amd64-3.6\n",
      "  creating build\\lib.win-amd64-3.6\\fasttext\n",
      "  copying fasttext\\model.py -> build\\lib.win-amd64-3.6\\fasttext\n",
      "  copying fasttext\\__init__.py -> build\\lib.win-amd64-3.6\\fasttext\n",
      "  running build_ext\n",
      "  building 'fasttext.fasttext' extension\n",
      "  creating build\\temp.win-amd64-3.6\n",
      "  creating build\\temp.win-amd64-3.6\\Release\n",
      "  creating build\\temp.win-amd64-3.6\\Release\\fasttext\n",
      "  creating build\\temp.win-amd64-3.6\\Release\\fasttext\\cpp\n",
      "  creating build\\temp.win-amd64-3.6\\Release\\fasttext\\cpp\\src\n",
      "  cl.exe /c /nologo /Ox /W3 /GL /DNDEBUG /MT -I.\\fasttext -Ic:\\users\\henskensj\\appdata\\local\\continuum\\anaconda3\\include -Ic:\\users\\henskensj\\appdata\\local\\continuum\\anaconda3\\include \"-IC:\\Program Files (x86)\\Windows Kits\\10\\include\\10.0.16299.0\\shared\" \"-IC:\\Program Files (x86)\\Windows Kits\\10\\include\\10.0.16299.0\\um\" \"-IC:\\Program Files (x86)\\Windows Kits\\10\\include\\10.0.16299.0\\winrt\" \"-IC:\\Program Files (x86)\\Windows Kits\\10\\include\\10.0.16299.0\\ucrt\" \"-IC:\\Program Files (x86)\\Windows Kits\\NETFXSDK\\4.6.1\\include\\um\" /EHsc /Tpfasttext/fasttext.cpp /Fobuild\\temp.win-amd64-3.6\\Release\\fasttext/fasttext.obj -O3 -pthread -funroll-loops -std=c++0x\n",
      "  error: command 'cl.exe' failed: No such file or directory\n",
      "  \n",
      "  ----------------------------------------\n",
      "  Running setup.py clean for fastText\n",
      "Failed to build fastText\n",
      "Installing collected packages: fastText\n",
      "  Running setup.py install for fastText: started\n",
      "    Running setup.py install for fastText: finished with status 'error'\n",
      "    Complete output from command c:\\users\\henskensj\\appdata\\local\\continuum\\anaconda3\\python.exe -u -c \"import setuptools, tokenize;__file__='C:\\\\Users\\\\HENSKE~1\\\\AppData\\\\Local\\\\Temp\\\\pip-install-qs_mspk3\\\\fastText\\\\setup.py';f=getattr(tokenize, 'open', open)(__file__);code=f.read().replace('\\r\\n', '\\n');f.close();exec(compile(code, __file__, 'exec'))\" install --record C:\\Users\\HENSKE~1\\AppData\\Local\\Temp\\pip-record-gjjqqc8o\\install-record.txt --single-version-externally-managed --compile:\n",
      "    running install\n",
      "    running build\n",
      "    running build_py\n",
      "    creating build\n",
      "    creating build\\lib.win-amd64-3.6\n",
      "    creating build\\lib.win-amd64-3.6\\fasttext\n",
      "    copying fasttext\\model.py -> build\\lib.win-amd64-3.6\\fasttext\n",
      "    copying fasttext\\__init__.py -> build\\lib.win-amd64-3.6\\fasttext\n",
      "    running build_ext\n",
      "    building 'fasttext.fasttext' extension\n",
      "    creating build\\temp.win-amd64-3.6\n",
      "    creating build\\temp.win-amd64-3.6\\Release\n",
      "    creating build\\temp.win-amd64-3.6\\Release\\fasttext\n",
      "    creating build\\temp.win-amd64-3.6\\Release\\fasttext\\cpp\n",
      "    creating build\\temp.win-amd64-3.6\\Release\\fasttext\\cpp\\src\n",
      "    cl.exe /c /nologo /Ox /W3 /GL /DNDEBUG /MT -I.\\fasttext -Ic:\\users\\henskensj\\appdata\\local\\continuum\\anaconda3\\include -Ic:\\users\\henskensj\\appdata\\local\\continuum\\anaconda3\\include \"-IC:\\Program Files (x86)\\Windows Kits\\10\\include\\10.0.16299.0\\shared\" \"-IC:\\Program Files (x86)\\Windows Kits\\10\\include\\10.0.16299.0\\um\" \"-IC:\\Program Files (x86)\\Windows Kits\\10\\include\\10.0.16299.0\\winrt\" \"-IC:\\Program Files (x86)\\Windows Kits\\10\\include\\10.0.16299.0\\ucrt\" \"-IC:\\Program Files (x86)\\Windows Kits\\NETFXSDK\\4.6.1\\include\\um\" /EHsc /Tpfasttext/fasttext.cpp /Fobuild\\temp.win-amd64-3.6\\Release\\fasttext/fasttext.obj -O3 -pthread -funroll-loops -std=c++0x\n",
      "    error: command 'cl.exe' failed: No such file or directory\n",
      "    \n",
      "    ----------------------------------------\n"
     ]
    },
    {
     "name": "stderr",
     "output_type": "stream",
     "text": [
      "  Failed building wheel for fastText\n",
      "Command \"c:\\users\\henskensj\\appdata\\local\\continuum\\anaconda3\\python.exe -u -c \"import setuptools, tokenize;__file__='C:\\\\Users\\\\HENSKE~1\\\\AppData\\\\Local\\\\Temp\\\\pip-install-qs_mspk3\\\\fastText\\\\setup.py';f=getattr(tokenize, 'open', open)(__file__);code=f.read().replace('\\r\\n', '\\n');f.close();exec(compile(code, __file__, 'exec'))\" install --record C:\\Users\\HENSKE~1\\AppData\\Local\\Temp\\pip-record-gjjqqc8o\\install-record.txt --single-version-externally-managed --compile\" failed with error code 1 in C:\\Users\\HENSKE~1\\AppData\\Local\\Temp\\pip-install-qs_mspk3\\fastText\\\n"
     ]
    }
   ],
   "source": [
    "!pip install fastText\n"
   ]
  }
 ],
 "metadata": {
  "kernelspec": {
   "display_name": "Python 3",
   "language": "python",
   "name": "python3"
  },
  "language_info": {
   "codemirror_mode": {
    "name": "ipython",
    "version": 3
   },
   "file_extension": ".py",
   "mimetype": "text/x-python",
   "name": "python",
   "nbconvert_exporter": "python",
   "pygments_lexer": "ipython3",
   "version": "3.6.4"
  }
 },
 "nbformat": 4,
 "nbformat_minor": 2
}
